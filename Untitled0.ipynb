{
  "nbformat": 4,
  "nbformat_minor": 0,
  "metadata": {
    "colab": {
      "name": "Untitled0.ipynb",
      "provenance": []
    },
    "kernelspec": {
      "name": "python3",
      "display_name": "Python 3"
    },
    "language_info": {
      "name": "python"
    }
  },
  "cells": [
    {
      "cell_type": "markdown",
      "metadata": {
        "id": "dSpFXUyM1APm"
      },
      "source": [
        "Square of a number"
      ]
    },
    {
      "cell_type": "code",
      "metadata": {
        "colab": {
          "base_uri": "https://localhost:8080/"
        },
        "id": "VSodMPU21EuD",
        "outputId": "c7b43cd4-6201-4c3e-a736-d7004d5bb6c9"
      },
      "source": [
        "a = int(input())\n",
        "sum = 0\n",
        "for i in range(1,a+1):\n",
        "  sum+=a\n",
        "print(sum)"
      ],
      "execution_count": 2,
      "outputs": [
        {
          "output_type": "stream",
          "text": [
            "5\n",
            "25\n"
          ],
          "name": "stdout"
        }
      ]
    },
    {
      "cell_type": "markdown",
      "metadata": {
        "id": "s646QAJE1jMP"
      },
      "source": [
        "Palindrome "
      ]
    },
    {
      "cell_type": "code",
      "metadata": {
        "colab": {
          "base_uri": "https://localhost:8080/"
        },
        "id": "BpQsPySe1nY-",
        "outputId": "20b94826-d451-446a-ca6f-ceb114cf116d"
      },
      "source": [
        "a = int(input())\n",
        "b=a \n",
        "rev=0\n",
        "while(a>0):\n",
        "  rem=a%10\n",
        "  rev=rev*10+rem\n",
        "  a=a//10\n",
        "if(b==rev):\n",
        "  print(\"palindrome\")\n",
        "else:\n",
        "  print(\"not palindrome\")"
      ],
      "execution_count": 3,
      "outputs": [
        {
          "output_type": "stream",
          "text": [
            "121\n",
            "palindrome\n"
          ],
          "name": "stdout"
        }
      ]
    },
    {
      "cell_type": "markdown",
      "metadata": {
        "id": "pzi-v8YR2SGL"
      },
      "source": [
        "Reverse of a number"
      ]
    },
    {
      "cell_type": "code",
      "metadata": {
        "colab": {
          "base_uri": "https://localhost:8080/"
        },
        "id": "ZPZuSQsR2YA5",
        "outputId": "b6311914-5562-4279-933c-8de927625954"
      },
      "source": [
        "a = int(input())\n",
        "rev=0\n",
        "while(a>0):\n",
        "  rem=a%10\n",
        "  rev=rev*10+rem\n",
        "  a=a//10\n",
        "print(rev)"
      ],
      "execution_count": 5,
      "outputs": [
        {
          "output_type": "stream",
          "text": [
            "321\n",
            "123\n"
          ],
          "name": "stdout"
        }
      ]
    }
  ]
}